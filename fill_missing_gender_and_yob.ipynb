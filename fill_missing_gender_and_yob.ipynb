{
 "cells": [
  {
   "cell_type": "code",
   "execution_count": 41,
   "metadata": {},
   "outputs": [],
   "source": [
    "import pandas as pd\n",
    "import numpy as np\n",
    "import matplotlib.pyplot as plt\n",
    "import seaborn as sns"
   ]
  },
  {
   "cell_type": "markdown",
   "metadata": {},
   "source": [
    "## Presentation\n",
    "The aim of this notebook is to perform missing values filling on a user table, the user data is given on a file in csv format.\n",
    "<br>\n",
    "This file has 5 columns :\n",
    "<ul>\n",
    "    <li> yob : Year of birth which is the user birthdate </li>\n",
    "    <li> domain : which is the domain name of the user address </li>\n",
    "    <li> first name : whis is the user first name and this column has been encrypted </li>\n",
    "    <li> zipcode </li>\n",
    "    <li> gender : which is the user gender</li>\n",
    "</ul>\n",
    "The missing values that we consider are on column gender and yob"
   ]
  },
  {
   "cell_type": "markdown",
   "metadata": {},
   "source": [
    "## Loading data and inspection"
   ]
  },
  {
   "cell_type": "code",
   "execution_count": 42,
   "metadata": {},
   "outputs": [
    {
     "data": {
      "text/html": [
       "<div>\n",
       "<style scoped>\n",
       "    .dataframe tbody tr th:only-of-type {\n",
       "        vertical-align: middle;\n",
       "    }\n",
       "\n",
       "    .dataframe tbody tr th {\n",
       "        vertical-align: top;\n",
       "    }\n",
       "\n",
       "    .dataframe thead th {\n",
       "        text-align: right;\n",
       "    }\n",
       "</style>\n",
       "<table border=\"1\" class=\"dataframe\">\n",
       "  <thead>\n",
       "    <tr style=\"text-align: right;\">\n",
       "      <th></th>\n",
       "      <th>yob</th>\n",
       "      <th>domain</th>\n",
       "      <th>firstname</th>\n",
       "      <th>zipcode</th>\n",
       "      <th>gender</th>\n",
       "    </tr>\n",
       "  </thead>\n",
       "  <tbody>\n",
       "    <tr>\n",
       "      <th>0</th>\n",
       "      <td>1985</td>\n",
       "      <td>@wanadoo.fr</td>\n",
       "      <td>b08253b305fb5ec</td>\n",
       "      <td>94450.0</td>\n",
       "      <td>F</td>\n",
       "    </tr>\n",
       "    <tr>\n",
       "      <th>1</th>\n",
       "      <td>1961</td>\n",
       "      <td>@sfr.fr</td>\n",
       "      <td>7ff135854376850</td>\n",
       "      <td>78580.0</td>\n",
       "      <td>M</td>\n",
       "    </tr>\n",
       "    <tr>\n",
       "      <th>2</th>\n",
       "      <td>1977</td>\n",
       "      <td>@free.fr</td>\n",
       "      <td>172522ec1028ab7</td>\n",
       "      <td>62640.0</td>\n",
       "      <td>NaN</td>\n",
       "    </tr>\n",
       "    <tr>\n",
       "      <th>3</th>\n",
       "      <td>-1</td>\n",
       "      <td>@hotmail.com</td>\n",
       "      <td>d3ca5dde60f88db</td>\n",
       "      <td>94100.0</td>\n",
       "      <td>M</td>\n",
       "    </tr>\n",
       "    <tr>\n",
       "      <th>4</th>\n",
       "      <td>-1</td>\n",
       "      <td>@gmail.com</td>\n",
       "      <td>bdaae16837dd576</td>\n",
       "      <td>78100.0</td>\n",
       "      <td>NaN</td>\n",
       "    </tr>\n",
       "  </tbody>\n",
       "</table>\n",
       "</div>"
      ],
      "text/plain": [
       "    yob        domain        firstname  zipcode gender\n",
       "0  1985   @wanadoo.fr  b08253b305fb5ec  94450.0      F\n",
       "1  1961       @sfr.fr  7ff135854376850  78580.0      M\n",
       "2  1977      @free.fr  172522ec1028ab7  62640.0    NaN\n",
       "3    -1  @hotmail.com  d3ca5dde60f88db  94100.0      M\n",
       "4    -1    @gmail.com  bdaae16837dd576  78100.0    NaN"
      ]
     },
     "execution_count": 42,
     "metadata": {},
     "output_type": "execute_result"
    }
   ],
   "source": [
    "file_path = \"user_exo_2M.csv\"\n",
    "user_df = pd.read_csv(file_path)\n",
    "user_df.head()"
   ]
  },
  {
   "cell_type": "code",
   "execution_count": 43,
   "metadata": {},
   "outputs": [
    {
     "data": {
      "text/plain": [
       "yob            int64\n",
       "domain        object\n",
       "firstname     object\n",
       "zipcode      float64\n",
       "gender        object\n",
       "dtype: object"
      ]
     },
     "execution_count": 43,
     "metadata": {},
     "output_type": "execute_result"
    }
   ],
   "source": [
    "user_df.dtypes"
   ]
  },
  {
   "cell_type": "code",
   "execution_count": 44,
   "metadata": {},
   "outputs": [
    {
     "data": {
      "text/plain": [
       "yob           0.0000\n",
       "domain        0.0000\n",
       "firstname     0.0000\n",
       "zipcode       0.8597\n",
       "gender       40.2477\n",
       "dtype: float64"
      ]
     },
     "execution_count": 44,
     "metadata": {},
     "output_type": "execute_result"
    }
   ],
   "source": [
    "#percentage of missing values for each column\n",
    "100*user_df.isna().sum()/len(user_df)"
   ]
  },
  {
   "cell_type": "markdown",
   "metadata": {},
   "source": [
    "As we see after this inspection, yob column has no missing values but we can see that we have -1 on some rows which is not a birthdate,  we will replace -1 by NaN."
   ]
  },
  {
   "cell_type": "code",
   "execution_count": 45,
   "metadata": {},
   "outputs": [],
   "source": [
    "# We replace -1 by  NaN on column yob\n",
    "user_df['yob'] = user_df.yob.replace(-1, np.nan)"
   ]
  },
  {
   "cell_type": "code",
   "execution_count": 46,
   "metadata": {},
   "outputs": [
    {
     "data": {
      "text/plain": [
       "yob          40.0000\n",
       "domain        0.0000\n",
       "firstname     0.0000\n",
       "zipcode       0.8597\n",
       "gender       40.2477\n",
       "dtype: float64"
      ]
     },
     "execution_count": 46,
     "metadata": {},
     "output_type": "execute_result"
    }
   ],
   "source": [
    "# percentage of missing values for each column \n",
    "100*user_df.isna().sum()/len(user_df)"
   ]
  },
  {
   "cell_type": "code",
   "execution_count": 47,
   "metadata": {},
   "outputs": [
    {
     "name": "stdout",
     "output_type": "stream",
     "text": [
      "The percentage of unique first name on the dataset is 0.7841%\n"
     ]
    }
   ],
   "source": [
    "first_name_unique_ratio = 100*len(user_df.firstname.unique())/len(user_df)\n",
    "print(f\"The percentage of unique first name on the dataset is {first_name_unique_ratio}%\")"
   ]
  },
  {
   "cell_type": "code",
   "execution_count": 48,
   "metadata": {},
   "outputs": [
    {
     "data": {
      "text/plain": [
       "deb97a759ee7b8b    17086\n",
       "b22c8efc9455118    16975\n",
       "9a6663f1bf0c560    16374\n",
       "60784186ea5b29f    15319\n",
       "4757067ca131abf    14532\n",
       "                   ...  \n",
       "6940c723f90d2db        1\n",
       "42b438a4533d22d        1\n",
       "42337fc92bd9ac9        1\n",
       "3ffe44ae3556e02        1\n",
       "6824cc4c7c33aab        1\n",
       "Name: firstname, Length: 15682, dtype: int64"
      ]
     },
     "execution_count": 48,
     "metadata": {},
     "output_type": "execute_result"
    }
   ],
   "source": [
    "user_df['firstname'].value_counts()"
   ]
  },
  {
   "cell_type": "markdown",
   "metadata": {},
   "source": [
    "### Filling gender missing values\n",
    "#### Methodology\n",
    "as we can see the set of unique first name represent 0.78% of the global user table data. \n",
    "<br>\n",
    "We will fill the gender missing values by using the following strategy :\n",
    "<br>\n",
    " <ul>\n",
    "    <li>For each missing gender row we will look at his firstname column </li>\n",
    "     <li>If his first name has only one occurence on the global data, we will replace his gender by the mode of the part of the global data which has no missing gender value.</li>\n",
    "     <li> If his first name has many occurences, we will replace this missing gender value by the mode of the corresponding data which has the corresponding firstname.</li>\n",
    "    </ul>\n",
    "    \n",
    " \n",
    "!!!!! Another possible approach is to use a model trained to predict the gender based on an embedding of the firstname but we think that we should have others features as the yob by example to do it.\n",
    "   \n",
    "  "
   ]
  },
  {
   "cell_type": "code",
   "execution_count": 49,
   "metadata": {},
   "outputs": [
    {
     "name": "stdout",
     "output_type": "stream",
     "text": [
      "0    M\n",
      "dtype: object\n"
     ]
    }
   ],
   "source": [
    "# The mode of the gender serie\n",
    "gender_mode = user_df['gender'].mode()\n",
    "print(gender_mode)"
   ]
  },
  {
   "cell_type": "code",
   "execution_count": 50,
   "metadata": {},
   "outputs": [
    {
     "data": {
      "text/html": [
       "<div>\n",
       "<style scoped>\n",
       "    .dataframe tbody tr th:only-of-type {\n",
       "        vertical-align: middle;\n",
       "    }\n",
       "\n",
       "    .dataframe tbody tr th {\n",
       "        vertical-align: top;\n",
       "    }\n",
       "\n",
       "    .dataframe thead th {\n",
       "        text-align: right;\n",
       "    }\n",
       "</style>\n",
       "<table border=\"1\" class=\"dataframe\">\n",
       "  <thead>\n",
       "    <tr style=\"text-align: right;\">\n",
       "      <th>gender</th>\n",
       "      <th>F</th>\n",
       "      <th>M</th>\n",
       "    </tr>\n",
       "    <tr>\n",
       "      <th>firstname</th>\n",
       "      <th></th>\n",
       "      <th></th>\n",
       "    </tr>\n",
       "  </thead>\n",
       "  <tbody>\n",
       "    <tr>\n",
       "      <th>0002d7397fcbcc8</th>\n",
       "      <td>5.0</td>\n",
       "      <td>1.0</td>\n",
       "    </tr>\n",
       "    <tr>\n",
       "      <th>001905a757375ad</th>\n",
       "      <td>6.0</td>\n",
       "      <td>1.0</td>\n",
       "    </tr>\n",
       "    <tr>\n",
       "      <th>0025e89702ab006</th>\n",
       "      <td>3.0</td>\n",
       "      <td>1.0</td>\n",
       "    </tr>\n",
       "    <tr>\n",
       "      <th>00261e88ea74565</th>\n",
       "      <td>3.0</td>\n",
       "      <td>1.0</td>\n",
       "    </tr>\n",
       "    <tr>\n",
       "      <th>0029b2820a9d594</th>\n",
       "      <td>6.0</td>\n",
       "      <td>1.0</td>\n",
       "    </tr>\n",
       "  </tbody>\n",
       "</table>\n",
       "</div>"
      ],
      "text/plain": [
       "gender             F    M\n",
       "firstname                \n",
       "0002d7397fcbcc8  5.0  1.0\n",
       "001905a757375ad  6.0  1.0\n",
       "0025e89702ab006  3.0  1.0\n",
       "00261e88ea74565  3.0  1.0\n",
       "0029b2820a9d594  6.0  1.0"
      ]
     },
     "execution_count": 50,
     "metadata": {},
     "output_type": "execute_result"
    }
   ],
   "source": [
    "gender_notna_df = user_df[~user_df.gender.isna()].copy() # the data with no missing gender value\n",
    "gender_na_df =  user_df[user_df.gender.isna()].copy() # the data with missing gender value\n",
    "gender_notna_df['count'] = [1 for i in range(len(gender_notna_df))] # we store the occurence of each firstname\n",
    "\n",
    "gender_notna_pivot = pd.pivot_table(gender_notna_df, values='count', index=['firstname'],\n",
    "                      columns=['gender'], aggfunc=np.sum)\n",
    "gender_notna_pivot = gender_notna_pivot.fillna(0)\n",
    "gender_notna_df = gender_notna_df.drop('count', axis=1)\n",
    "gender_notna_pivot.head()"
   ]
  },
  {
   "cell_type": "code",
   "execution_count": 51,
   "metadata": {},
   "outputs": [
    {
     "data": {
      "text/html": [
       "<div>\n",
       "<style scoped>\n",
       "    .dataframe tbody tr th:only-of-type {\n",
       "        vertical-align: middle;\n",
       "    }\n",
       "\n",
       "    .dataframe tbody tr th {\n",
       "        vertical-align: top;\n",
       "    }\n",
       "\n",
       "    .dataframe thead th {\n",
       "        text-align: right;\n",
       "    }\n",
       "</style>\n",
       "<table border=\"1\" class=\"dataframe\">\n",
       "  <thead>\n",
       "    <tr style=\"text-align: right;\">\n",
       "      <th></th>\n",
       "      <th>firstname</th>\n",
       "      <th>gender_fill</th>\n",
       "    </tr>\n",
       "  </thead>\n",
       "  <tbody>\n",
       "    <tr>\n",
       "      <th>0</th>\n",
       "      <td>0002d7397fcbcc8</td>\n",
       "      <td>F</td>\n",
       "    </tr>\n",
       "    <tr>\n",
       "      <th>1</th>\n",
       "      <td>001905a757375ad</td>\n",
       "      <td>F</td>\n",
       "    </tr>\n",
       "    <tr>\n",
       "      <th>2</th>\n",
       "      <td>0025e89702ab006</td>\n",
       "      <td>F</td>\n",
       "    </tr>\n",
       "    <tr>\n",
       "      <th>3</th>\n",
       "      <td>00261e88ea74565</td>\n",
       "      <td>F</td>\n",
       "    </tr>\n",
       "    <tr>\n",
       "      <th>4</th>\n",
       "      <td>0029b2820a9d594</td>\n",
       "      <td>F</td>\n",
       "    </tr>\n",
       "  </tbody>\n",
       "</table>\n",
       "</div>"
      ],
      "text/plain": [
       "         firstname gender_fill\n",
       "0  0002d7397fcbcc8           F\n",
       "1  001905a757375ad           F\n",
       "2  0025e89702ab006           F\n",
       "3  00261e88ea74565           F\n",
       "4  0029b2820a9d594           F"
      ]
     },
     "execution_count": 51,
     "metadata": {},
     "output_type": "execute_result"
    }
   ],
   "source": [
    "# For each first name we have the mode of gender\n",
    "temp = gender_notna_pivot.idxmax(axis=1)\n",
    "temp2 = pd.DataFrame({\"gender_fill\":temp}).reset_index()\n",
    "temp2.head()"
   ]
  },
  {
   "cell_type": "code",
   "execution_count": 52,
   "metadata": {},
   "outputs": [
    {
     "name": "stdout",
     "output_type": "stream",
     "text": [
      "False\n"
     ]
    }
   ],
   "source": [
    "#We check if all the firstnames of gender_na_df are present in gender_notna_df\n",
    "notna = temp.index\n",
    "na = gender_na_df.firstname.unique()\n",
    "check_list =  [x for x in na if x not in notna]\n",
    "# if check_list is empty (len(check_list) = 0),  so all the names in gender_na_df are present in gender_notna_df\n",
    "print(len(check_list)==0)"
   ]
  },
  {
   "cell_type": "code",
   "execution_count": 53,
   "metadata": {},
   "outputs": [
    {
     "name": "stdout",
     "output_type": "stream",
     "text": [
      "461\n"
     ]
    }
   ],
   "source": [
    "print(len(check_list))"
   ]
  },
  {
   "cell_type": "markdown",
   "metadata": {},
   "source": [
    "As we see all the first names present in gender_na_df are not present  in gender_na_df so we can fill the missing gender by using the majority classifier given by temp"
   ]
  },
  {
   "cell_type": "code",
   "execution_count": 54,
   "metadata": {},
   "outputs": [],
   "source": [
    "gender_na_fill = pd.merge(gender_na_df, temp2, how='left', on='firstname')\n",
    "gender_na_fill['gender'] = gender_na_fill['gender_fill'].fillna('M') # the gender mode is 'M'\n",
    "user_df2 = gender_notna_df.append(gender_na_fill.drop(\"gender_fill\", axis=1))"
   ]
  },
  {
   "cell_type": "code",
   "execution_count": 55,
   "metadata": {},
   "outputs": [
    {
     "data": {
      "text/html": [
       "<div>\n",
       "<style scoped>\n",
       "    .dataframe tbody tr th:only-of-type {\n",
       "        vertical-align: middle;\n",
       "    }\n",
       "\n",
       "    .dataframe tbody tr th {\n",
       "        vertical-align: top;\n",
       "    }\n",
       "\n",
       "    .dataframe thead th {\n",
       "        text-align: right;\n",
       "    }\n",
       "</style>\n",
       "<table border=\"1\" class=\"dataframe\">\n",
       "  <thead>\n",
       "    <tr style=\"text-align: right;\">\n",
       "      <th></th>\n",
       "      <th>yob</th>\n",
       "      <th>domain</th>\n",
       "      <th>firstname</th>\n",
       "      <th>zipcode</th>\n",
       "      <th>gender</th>\n",
       "    </tr>\n",
       "  </thead>\n",
       "  <tbody>\n",
       "    <tr>\n",
       "      <th>0</th>\n",
       "      <td>1985.0</td>\n",
       "      <td>@wanadoo.fr</td>\n",
       "      <td>b08253b305fb5ec</td>\n",
       "      <td>94450.0</td>\n",
       "      <td>F</td>\n",
       "    </tr>\n",
       "    <tr>\n",
       "      <th>1</th>\n",
       "      <td>1961.0</td>\n",
       "      <td>@sfr.fr</td>\n",
       "      <td>7ff135854376850</td>\n",
       "      <td>78580.0</td>\n",
       "      <td>M</td>\n",
       "    </tr>\n",
       "    <tr>\n",
       "      <th>3</th>\n",
       "      <td>NaN</td>\n",
       "      <td>@hotmail.com</td>\n",
       "      <td>d3ca5dde60f88db</td>\n",
       "      <td>94100.0</td>\n",
       "      <td>M</td>\n",
       "    </tr>\n",
       "    <tr>\n",
       "      <th>5</th>\n",
       "      <td>1975.0</td>\n",
       "      <td>@wanadoo.fr</td>\n",
       "      <td>57c2877c1d84c4b</td>\n",
       "      <td>92600.0</td>\n",
       "      <td>M</td>\n",
       "    </tr>\n",
       "    <tr>\n",
       "      <th>6</th>\n",
       "      <td>1974.0</td>\n",
       "      <td>@gmail.com</td>\n",
       "      <td>d47de916cacd0b7</td>\n",
       "      <td>65200.0</td>\n",
       "      <td>M</td>\n",
       "    </tr>\n",
       "  </tbody>\n",
       "</table>\n",
       "</div>"
      ],
      "text/plain": [
       "      yob        domain        firstname  zipcode gender\n",
       "0  1985.0   @wanadoo.fr  b08253b305fb5ec  94450.0      F\n",
       "1  1961.0       @sfr.fr  7ff135854376850  78580.0      M\n",
       "3     NaN  @hotmail.com  d3ca5dde60f88db  94100.0      M\n",
       "5  1975.0   @wanadoo.fr  57c2877c1d84c4b  92600.0      M\n",
       "6  1974.0    @gmail.com  d47de916cacd0b7  65200.0      M"
      ]
     },
     "execution_count": 55,
     "metadata": {},
     "output_type": "execute_result"
    }
   ],
   "source": [
    "user_df2.head()"
   ]
  },
  {
   "cell_type": "code",
   "execution_count": 56,
   "metadata": {},
   "outputs": [
    {
     "data": {
      "text/plain": [
       "yob          40.0000\n",
       "domain        0.0000\n",
       "firstname     0.0000\n",
       "zipcode       0.8597\n",
       "gender        0.0000\n",
       "dtype: float64"
      ]
     },
     "execution_count": 56,
     "metadata": {},
     "output_type": "execute_result"
    }
   ],
   "source": [
    "# percentage of missing values for each column of user_df2\n",
    "100*user_df2.isna().sum()/len(user_df2)"
   ]
  },
  {
   "cell_type": "markdown",
   "metadata": {},
   "source": [
    "## Filling year of birth missing values\n",
    "\n",
    "In the following lines we will work with  the dataframe user_df2 "
   ]
  },
  {
   "cell_type": "code",
   "execution_count": 57,
   "metadata": {},
   "outputs": [
    {
     "name": "stdout",
     "output_type": "stream",
     "text": [
      "['@wanadoo.fr' '@sfr.fr' '@hotmail.com' '@gmail.com' '@live.fr'\n",
      " '@yahoo.fr' '@free.fr' '@orange.fr' '@aol.com' '@hotmail.fr'\n",
      " '@libertysurf.fr' '@aliceadsl.fr' '@laposte.net' '@ebuyclub.com'\n",
      " '@numericable.fr' '@club-internet.fr' '@dbmail.com' '@9online.fr'\n",
      " '@yahoo.com' '@neuf.fr' '@netcourrier.com' '@voila.fr' '@nordnet.fr'\n",
      " '@bbox.fr' '@outlook.fr' '@cegetel.net' '@msn.com' '@noos.fr'\n",
      " '@outlook.com' '@me.com' '@aol.fr' '@gmx.fr' '@ymail.com' '@gmx.com'\n",
      " '@icloud.com' '@live.com' '@live.be' '@bluewin.ch' '@gmail.fr'\n",
      " '@skynet.be' '@mail.ru' '@hotmail.be' '@limonetik10.com']\n"
     ]
    }
   ],
   "source": [
    "# We inspect all the domain names\n",
    "print(user_df2.domain.unique())"
   ]
  },
  {
   "cell_type": "code",
   "execution_count": 58,
   "metadata": {},
   "outputs": [
    {
     "data": {
      "text/html": [
       "<div>\n",
       "<style scoped>\n",
       "    .dataframe tbody tr th:only-of-type {\n",
       "        vertical-align: middle;\n",
       "    }\n",
       "\n",
       "    .dataframe tbody tr th {\n",
       "        vertical-align: top;\n",
       "    }\n",
       "\n",
       "    .dataframe thead th {\n",
       "        text-align: right;\n",
       "    }\n",
       "</style>\n",
       "<table border=\"1\" class=\"dataframe\">\n",
       "  <thead>\n",
       "    <tr style=\"text-align: right;\">\n",
       "      <th>yob</th>\n",
       "      <th>1900.0</th>\n",
       "      <th>1901.0</th>\n",
       "      <th>1902.0</th>\n",
       "      <th>1910.0</th>\n",
       "      <th>1911.0</th>\n",
       "      <th>1920.0</th>\n",
       "      <th>1922.0</th>\n",
       "      <th>1923.0</th>\n",
       "      <th>1924.0</th>\n",
       "      <th>1925.0</th>\n",
       "      <th>...</th>\n",
       "      <th>1990.0</th>\n",
       "      <th>1991.0</th>\n",
       "      <th>1992.0</th>\n",
       "      <th>1993.0</th>\n",
       "      <th>1994.0</th>\n",
       "      <th>1995.0</th>\n",
       "      <th>1996.0</th>\n",
       "      <th>1997.0</th>\n",
       "      <th>1998.0</th>\n",
       "      <th>1999.0</th>\n",
       "    </tr>\n",
       "    <tr>\n",
       "      <th>domain</th>\n",
       "      <th></th>\n",
       "      <th></th>\n",
       "      <th></th>\n",
       "      <th></th>\n",
       "      <th></th>\n",
       "      <th></th>\n",
       "      <th></th>\n",
       "      <th></th>\n",
       "      <th></th>\n",
       "      <th></th>\n",
       "      <th></th>\n",
       "      <th></th>\n",
       "      <th></th>\n",
       "      <th></th>\n",
       "      <th></th>\n",
       "      <th></th>\n",
       "      <th></th>\n",
       "      <th></th>\n",
       "      <th></th>\n",
       "      <th></th>\n",
       "      <th></th>\n",
       "    </tr>\n",
       "  </thead>\n",
       "  <tbody>\n",
       "    <tr>\n",
       "      <th>@9online.fr</th>\n",
       "      <td>4.0</td>\n",
       "      <td>1.0</td>\n",
       "      <td>0.0</td>\n",
       "      <td>1.0</td>\n",
       "      <td>0.0</td>\n",
       "      <td>0.0</td>\n",
       "      <td>0.0</td>\n",
       "      <td>0.0</td>\n",
       "      <td>0.0</td>\n",
       "      <td>1.0</td>\n",
       "      <td>...</td>\n",
       "      <td>4.0</td>\n",
       "      <td>5.0</td>\n",
       "      <td>1.0</td>\n",
       "      <td>3.0</td>\n",
       "      <td>0.0</td>\n",
       "      <td>0.0</td>\n",
       "      <td>0.0</td>\n",
       "      <td>0.0</td>\n",
       "      <td>0.0</td>\n",
       "      <td>0.0</td>\n",
       "    </tr>\n",
       "    <tr>\n",
       "      <th>@aliceadsl.fr</th>\n",
       "      <td>13.0</td>\n",
       "      <td>1.0</td>\n",
       "      <td>5.0</td>\n",
       "      <td>2.0</td>\n",
       "      <td>0.0</td>\n",
       "      <td>2.0</td>\n",
       "      <td>1.0</td>\n",
       "      <td>0.0</td>\n",
       "      <td>1.0</td>\n",
       "      <td>0.0</td>\n",
       "      <td>...</td>\n",
       "      <td>24.0</td>\n",
       "      <td>13.0</td>\n",
       "      <td>17.0</td>\n",
       "      <td>9.0</td>\n",
       "      <td>11.0</td>\n",
       "      <td>10.0</td>\n",
       "      <td>13.0</td>\n",
       "      <td>6.0</td>\n",
       "      <td>4.0</td>\n",
       "      <td>6.0</td>\n",
       "    </tr>\n",
       "    <tr>\n",
       "      <th>@aol.com</th>\n",
       "      <td>30.0</td>\n",
       "      <td>2.0</td>\n",
       "      <td>4.0</td>\n",
       "      <td>0.0</td>\n",
       "      <td>0.0</td>\n",
       "      <td>1.0</td>\n",
       "      <td>2.0</td>\n",
       "      <td>0.0</td>\n",
       "      <td>1.0</td>\n",
       "      <td>1.0</td>\n",
       "      <td>...</td>\n",
       "      <td>71.0</td>\n",
       "      <td>70.0</td>\n",
       "      <td>51.0</td>\n",
       "      <td>48.0</td>\n",
       "      <td>28.0</td>\n",
       "      <td>39.0</td>\n",
       "      <td>33.0</td>\n",
       "      <td>14.0</td>\n",
       "      <td>11.0</td>\n",
       "      <td>9.0</td>\n",
       "    </tr>\n",
       "    <tr>\n",
       "      <th>@aol.fr</th>\n",
       "      <td>6.0</td>\n",
       "      <td>0.0</td>\n",
       "      <td>0.0</td>\n",
       "      <td>0.0</td>\n",
       "      <td>0.0</td>\n",
       "      <td>0.0</td>\n",
       "      <td>0.0</td>\n",
       "      <td>0.0</td>\n",
       "      <td>0.0</td>\n",
       "      <td>0.0</td>\n",
       "      <td>...</td>\n",
       "      <td>26.0</td>\n",
       "      <td>32.0</td>\n",
       "      <td>17.0</td>\n",
       "      <td>20.0</td>\n",
       "      <td>22.0</td>\n",
       "      <td>25.0</td>\n",
       "      <td>14.0</td>\n",
       "      <td>15.0</td>\n",
       "      <td>8.0</td>\n",
       "      <td>7.0</td>\n",
       "    </tr>\n",
       "    <tr>\n",
       "      <th>@bbox.fr</th>\n",
       "      <td>17.0</td>\n",
       "      <td>2.0</td>\n",
       "      <td>2.0</td>\n",
       "      <td>0.0</td>\n",
       "      <td>0.0</td>\n",
       "      <td>1.0</td>\n",
       "      <td>0.0</td>\n",
       "      <td>0.0</td>\n",
       "      <td>2.0</td>\n",
       "      <td>0.0</td>\n",
       "      <td>...</td>\n",
       "      <td>93.0</td>\n",
       "      <td>86.0</td>\n",
       "      <td>65.0</td>\n",
       "      <td>55.0</td>\n",
       "      <td>53.0</td>\n",
       "      <td>54.0</td>\n",
       "      <td>38.0</td>\n",
       "      <td>40.0</td>\n",
       "      <td>14.0</td>\n",
       "      <td>5.0</td>\n",
       "    </tr>\n",
       "  </tbody>\n",
       "</table>\n",
       "<p>5 rows × 84 columns</p>\n",
       "</div>"
      ],
      "text/plain": [
       "yob            1900.0  1901.0  1902.0  1910.0  1911.0  1920.0  1922.0  1923.0  \\\n",
       "domain                                                                          \n",
       "@9online.fr       4.0     1.0     0.0     1.0     0.0     0.0     0.0     0.0   \n",
       "@aliceadsl.fr    13.0     1.0     5.0     2.0     0.0     2.0     1.0     0.0   \n",
       "@aol.com         30.0     2.0     4.0     0.0     0.0     1.0     2.0     0.0   \n",
       "@aol.fr           6.0     0.0     0.0     0.0     0.0     0.0     0.0     0.0   \n",
       "@bbox.fr         17.0     2.0     2.0     0.0     0.0     1.0     0.0     0.0   \n",
       "\n",
       "yob            1924.0  1925.0  ...  1990.0  1991.0  1992.0  1993.0  1994.0  \\\n",
       "domain                         ...                                           \n",
       "@9online.fr       0.0     1.0  ...     4.0     5.0     1.0     3.0     0.0   \n",
       "@aliceadsl.fr     1.0     0.0  ...    24.0    13.0    17.0     9.0    11.0   \n",
       "@aol.com          1.0     1.0  ...    71.0    70.0    51.0    48.0    28.0   \n",
       "@aol.fr           0.0     0.0  ...    26.0    32.0    17.0    20.0    22.0   \n",
       "@bbox.fr          2.0     0.0  ...    93.0    86.0    65.0    55.0    53.0   \n",
       "\n",
       "yob            1995.0  1996.0  1997.0  1998.0  1999.0  \n",
       "domain                                                 \n",
       "@9online.fr       0.0     0.0     0.0     0.0     0.0  \n",
       "@aliceadsl.fr    10.0    13.0     6.0     4.0     6.0  \n",
       "@aol.com         39.0    33.0    14.0    11.0     9.0  \n",
       "@aol.fr          25.0    14.0    15.0     8.0     7.0  \n",
       "@bbox.fr         54.0    38.0    40.0    14.0     5.0  \n",
       "\n",
       "[5 rows x 84 columns]"
      ]
     },
     "execution_count": 58,
     "metadata": {},
     "output_type": "execute_result"
    }
   ],
   "source": [
    "# In this part we will see how the data are distributed by domain name for each year of birth\n",
    "yob_not_na_df = user_df2[~user_df2.yob.isna()].copy()\n",
    "yob_na_df = user_df2[user_df2.yob.isna()].copy()\n",
    "yob_not_na_df['count'] = [1 for x in range(len(yob_not_na_df))]\n",
    "domain_yob_df = pd.pivot_table(yob_not_na_df, values='count', index=['domain'],\n",
    "                      columns=['yob'], aggfunc=np.sum)\n",
    "domain_yob_df = domain_yob_df.fillna(0)\n",
    "yob_not_na_df = yob_not_na_df.drop('count', axis=1)\n",
    "domain_yob_df.head()"
   ]
  },
  {
   "cell_type": "code",
   "execution_count": 59,
   "metadata": {},
   "outputs": [
    {
     "data": {
      "image/png": "[encoded data removed]",
      "text/plain": [
       "<Figure size 1440x720 with 1 Axes>"
      ]
     },
     "metadata": {
      "needs_background": "light"
     },
     "output_type": "display_data"
    }
   ],
   "source": [
    "# Example of plot for the domain @gmail.com\n",
    "plt.figure(figsize=(20, 10))\n",
    "ax  = sns.barplot( list(domain_yob_df.loc['@gmail.com'].index),  list(domain_yob_df.loc['@gmail.com']))\n",
    "plt.title('Distribution of domain @gmail.com between 1900 and 1999')\n",
    "plt.xlabel('Year')\n",
    "plt.ylabel('occurences')\n",
    "ax.tick_params(axis='x', rotation=90)\n"
   ]
  },
  {
   "cell_type": "markdown",
   "metadata": {},
   "source": [
    "### Methodology\n",
    "We see that the domain name is distributed over the year of birth so to fill the missing yob values we will use this specific column and use the following process :\n",
    "<ul>\n",
    "    <li>\n",
    "        We will group data by domain on the dataframe yob_not_na_df and compute the median for the column yob, this dataframe is called domain_yob_median.\n",
    "    </li>\n",
    "    <li>\n",
    "        In the dataframe yob_na_df, each missing yob will be fill with the median yob associated to his domain name\n",
    "        ff this domain is present in domain_yob_median <br>else we will  fill the yob with yob_median(median of yob column on the dataframe user_df2)\n",
    "    </li>\n",
    "</ul>\n",
    "\n",
    "!!!!! As estimator of the yob we can also use the mean (or weighted mean) but we see that for a given domain name we have many occurences and a few in others years in some years so we think that the median is better here \n"
   ]
  },
  {
   "cell_type": "code",
   "execution_count": 60,
   "metadata": {},
   "outputs": [
    {
     "name": "stdout",
     "output_type": "stream",
     "text": [
      "1979.0\n"
     ]
    }
   ],
   "source": [
    "# the yob median\n",
    "yob_median =yob_not_na_df.yob.median()\n",
    "print(yob_median)"
   ]
  },
  {
   "cell_type": "code",
   "execution_count": 61,
   "metadata": {},
   "outputs": [
    {
     "data": {
      "text/html": [
       "<div>\n",
       "<style scoped>\n",
       "    .dataframe tbody tr th:only-of-type {\n",
       "        vertical-align: middle;\n",
       "    }\n",
       "\n",
       "    .dataframe tbody tr th {\n",
       "        vertical-align: top;\n",
       "    }\n",
       "\n",
       "    .dataframe thead th {\n",
       "        text-align: right;\n",
       "    }\n",
       "</style>\n",
       "<table border=\"1\" class=\"dataframe\">\n",
       "  <thead>\n",
       "    <tr style=\"text-align: right;\">\n",
       "      <th></th>\n",
       "      <th>yob</th>\n",
       "    </tr>\n",
       "    <tr>\n",
       "      <th>domain</th>\n",
       "      <th></th>\n",
       "    </tr>\n",
       "  </thead>\n",
       "  <tbody>\n",
       "    <tr>\n",
       "      <th>@9online.fr</th>\n",
       "      <td>1965.0</td>\n",
       "    </tr>\n",
       "    <tr>\n",
       "      <th>@aliceadsl.fr</th>\n",
       "      <td>1968.0</td>\n",
       "    </tr>\n",
       "    <tr>\n",
       "      <th>@aol.com</th>\n",
       "      <td>1967.0</td>\n",
       "    </tr>\n",
       "    <tr>\n",
       "      <th>@aol.fr</th>\n",
       "      <td>1977.0</td>\n",
       "    </tr>\n",
       "    <tr>\n",
       "      <th>@bbox.fr</th>\n",
       "      <td>1970.0</td>\n",
       "    </tr>\n",
       "  </tbody>\n",
       "</table>\n",
       "</div>"
      ],
      "text/plain": [
       "                  yob\n",
       "domain               \n",
       "@9online.fr    1965.0\n",
       "@aliceadsl.fr  1968.0\n",
       "@aol.com       1967.0\n",
       "@aol.fr        1977.0\n",
       "@bbox.fr       1970.0"
      ]
     },
     "execution_count": 61,
     "metadata": {},
     "output_type": "execute_result"
    }
   ],
   "source": [
    "domain_yob_median =  yob_not_na_df.groupby('domain').agg({\"yob\":np.median})\n",
    "domain_yob_median.head()"
   ]
  },
  {
   "cell_type": "code",
   "execution_count": 62,
   "metadata": {},
   "outputs": [
    {
     "name": "stdout",
     "output_type": "stream",
     "text": [
      "True\n"
     ]
    }
   ],
   "source": [
    "#We check if all the domain of yob_na_df are present in yob_notna_df\n",
    "domain_notna = domain_yob_median.index\n",
    "domain_na = yob_na_df.domain.unique()\n",
    "check_list2 =  [x for x in domain_na if x not in domain_notna]\n",
    "# if check_list2 is empty (len(check_list2) = 0),  so all the domains in yob_na_df are present in yob_notna_df\n",
    "print(len(check_list2)==0)"
   ]
  },
  {
   "cell_type": "markdown",
   "metadata": {},
   "source": [
    "As we see all the domain names present in domain_na are present in domain_notna so we can fill the missing values by using domain_yob_median directly"
   ]
  },
  {
   "cell_type": "code",
   "execution_count": 63,
   "metadata": {},
   "outputs": [
    {
     "data": {
      "text/html": [
       "<div>\n",
       "<style scoped>\n",
       "    .dataframe tbody tr th:only-of-type {\n",
       "        vertical-align: middle;\n",
       "    }\n",
       "\n",
       "    .dataframe tbody tr th {\n",
       "        vertical-align: top;\n",
       "    }\n",
       "\n",
       "    .dataframe thead th {\n",
       "        text-align: right;\n",
       "    }\n",
       "</style>\n",
       "<table border=\"1\" class=\"dataframe\">\n",
       "  <thead>\n",
       "    <tr style=\"text-align: right;\">\n",
       "      <th></th>\n",
       "      <th>yob</th>\n",
       "      <th>domain</th>\n",
       "      <th>firstname</th>\n",
       "      <th>zipcode</th>\n",
       "      <th>gender</th>\n",
       "    </tr>\n",
       "  </thead>\n",
       "  <tbody>\n",
       "    <tr>\n",
       "      <th>0</th>\n",
       "      <td>1985.0</td>\n",
       "      <td>@wanadoo.fr</td>\n",
       "      <td>b08253b305fb5ec</td>\n",
       "      <td>94450.0</td>\n",
       "      <td>F</td>\n",
       "    </tr>\n",
       "    <tr>\n",
       "      <th>1</th>\n",
       "      <td>1961.0</td>\n",
       "      <td>@sfr.fr</td>\n",
       "      <td>7ff135854376850</td>\n",
       "      <td>78580.0</td>\n",
       "      <td>M</td>\n",
       "    </tr>\n",
       "    <tr>\n",
       "      <th>5</th>\n",
       "      <td>1975.0</td>\n",
       "      <td>@wanadoo.fr</td>\n",
       "      <td>57c2877c1d84c4b</td>\n",
       "      <td>92600.0</td>\n",
       "      <td>M</td>\n",
       "    </tr>\n",
       "    <tr>\n",
       "      <th>6</th>\n",
       "      <td>1974.0</td>\n",
       "      <td>@gmail.com</td>\n",
       "      <td>d47de916cacd0b7</td>\n",
       "      <td>65200.0</td>\n",
       "      <td>M</td>\n",
       "    </tr>\n",
       "    <tr>\n",
       "      <th>10</th>\n",
       "      <td>1961.0</td>\n",
       "      <td>@gmail.com</td>\n",
       "      <td>aa47f8215c6f30a</td>\n",
       "      <td>67380.0</td>\n",
       "      <td>M</td>\n",
       "    </tr>\n",
       "  </tbody>\n",
       "</table>\n",
       "</div>"
      ],
      "text/plain": [
       "       yob       domain        firstname  zipcode gender\n",
       "0   1985.0  @wanadoo.fr  b08253b305fb5ec  94450.0      F\n",
       "1   1961.0      @sfr.fr  7ff135854376850  78580.0      M\n",
       "5   1975.0  @wanadoo.fr  57c2877c1d84c4b  92600.0      M\n",
       "6   1974.0   @gmail.com  d47de916cacd0b7  65200.0      M\n",
       "10  1961.0   @gmail.com  aa47f8215c6f30a  67380.0      M"
      ]
     },
     "execution_count": 63,
     "metadata": {},
     "output_type": "execute_result"
    }
   ],
   "source": [
    "yob_na_fill = pd.merge(yob_na_df[['domain', 'firstname', 'zipcode', 'gender']], domain_yob_median, on='domain', how='left')\n",
    "# The resulting data frame with yob and gender filled\n",
    "user_df3 = yob_not_na_df.append(yob_na_fill)\n",
    "user_df3.head()"
   ]
  },
  {
   "cell_type": "code",
   "execution_count": 64,
   "metadata": {},
   "outputs": [
    {
     "data": {
      "text/plain": [
       "yob          0.0000\n",
       "domain       0.0000\n",
       "firstname    0.0000\n",
       "zipcode      0.8597\n",
       "gender       0.0000\n",
       "dtype: float64"
      ]
     },
     "execution_count": 64,
     "metadata": {},
     "output_type": "execute_result"
    }
   ],
   "source": [
    "# percentage of missing values for each column \n",
    "100*user_df3.isna().sum()/len(user_df3)"
   ]
  },
  {
   "cell_type": "code",
   "execution_count": 65,
   "metadata": {},
   "outputs": [],
   "source": [
    "user_df3.to_csv(\"user_completed.csv\", index=False)"
   ]
  },
  {
   "cell_type": "code",
   "execution_count": null,
   "metadata": {},
   "outputs": [],
   "source": []
  }
 ],
 "metadata": {
  "kernelspec": {
   "display_name": "Python 3",
   "language": "python",
   "name": "python3"
  },
  "language_info": {
   "codemirror_mode": {
    "name": "ipython",
    "version": 3
   },
   "file_extension": ".py",
   "mimetype": "text/x-python",
   "name": "python",
   "nbconvert_exporter": "python",
   "pygments_lexer": "ipython3",
   "version": "3.7.0"
  }
 },
 "nbformat": 4,
 "nbformat_minor": 2
}
